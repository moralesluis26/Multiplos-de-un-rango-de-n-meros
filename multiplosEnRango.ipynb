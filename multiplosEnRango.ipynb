{
  "cells": [
    {
      "cell_type": "code",
      "execution_count": null,
      "metadata": {
        "id": "9Twh_WYkTFD8"
      },
      "outputs": [
        {
          "ename": "",
          "evalue": "",
          "output_type": "error",
          "traceback": [
            "\u001b[1;31mRunning cells with 'base' requires the ipykernel package.\n",
            "\u001b[1;31mRun the following command to install 'ipykernel' into the Python environment. \n",
            "\u001b[1;31mCommand: 'conda install -n base ipykernel --update-deps --force-reinstall'"
          ]
        }
      ],
      "source": [
        "a= int(input(\"Ingrese el primer múltiplo:\"))\n",
        "b= int(input(\"Ingrese el segundo múltiplo:\"))\n",
        "c= int(input(\"Ingrese el límite inferior del rango en el que desea buscar los múltiplos:\"))\n",
        "d= int(input(\"Ingrese el límite superior del rango en el que desea buscar los múltiplos:\"))\n",
        "multiples = [n for n in range(1, 1000) if n % a == 0 or n % b == 0 ]\n",
        "\n",
        "print(\"La lista de múltiplos en el rango especificado es la que sigue:\",multiples)\n",
        "print(\"La suma de estos números corresponde al siguiente valor:\",sum(multiples))\n",
        "#Correctopapa"
      ]
    }
  ],
  "metadata": {
    "colab": {
      "provenance": []
    },
    "kernelspec": {
      "display_name": "base",
      "language": "python",
      "name": "python3"
    },
    "language_info": {
      "name": "python",
      "version": "3.7.1"
    },
    "vscode": {
      "interpreter": {
        "hash": "19d1d53a962d236aa061289c2ac16dc8e6d9648c89fe79f459ae9a3493bc67b4"
      }
    }
  },
  "nbformat": 4,
  "nbformat_minor": 0
}
