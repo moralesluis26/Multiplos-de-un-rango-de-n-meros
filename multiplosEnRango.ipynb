{
  "nbformat": 4,
  "nbformat_minor": 0,
  "metadata": {
    "colab": {
      "provenance": []
    },
    "kernelspec": {
      "name": "python3",
      "display_name": "Python 3"
    },
    "language_info": {
      "name": "python"
    }
  },
  "cells": [
    {
      "cell_type": "code",
      "execution_count": null,
      "metadata": {
        "id": "9Twh_WYkTFD8"
      },
      "outputs": [],
      "source": [
        "a= int(input(\"Ingrese el primer múltiplo:\"))\n",
        "b= int(input(\"Ingrese el segundo múltiplo:\"))\n",
        "c= int(input(\"Ingrese el límite inferior del rango en el que desea buscar los múltiplos:\"))\n",
        "d= int(input(\"Ingrese el límite superior del rango en el que desea buscar los múltiplos:\"))\n",
        "multiples = [n for n in range(1, 1000) if n % a == 0 or n % b == 0 ]\n",
        "\n",
        "print(\"La lista de múltiplos en el rango especificado es la que sigue:\",multiples)\n",
        "print(\"La suma de estos números corresponde al siguiente valor:\",sum(multiples))\n",
        "#Correcto"
      ]
    }
  ]
}